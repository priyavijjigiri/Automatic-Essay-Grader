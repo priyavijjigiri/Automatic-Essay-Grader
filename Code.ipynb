{
 "cells": [
  {
   "cell_type": "code",
   "execution_count": 2,
   "metadata": {},
   "outputs": [],
   "source": [
    "%%capture\n",
    "import os\n",
    "import sys\n",
    "import matplotlib.pyplot as plt\n",
    "import matplotlib.font_manager\n",
    "import numpy as np\n",
    "import pandas as pd\n",
    "import random\n",
    "import nltk\n",
    "import nltk.data\n",
    "import re\n",
    "import tensorflow as tf\n",
    "import logging\n",
    "from __future__ import print_function\n",
    "from gensim.models import word2vec\n",
    "from sklearn.model_selection import train_test_split\n",
    "from scipy.stats import spearmanr\n",
    "from nltk.corpus import stopwords\n",
    "from sklearn.metrics import cohen_kappa_score\n",
    "from sklearn.model_selection import train_test_split\n",
    "from sklearn.cross_validation import train_test_split\n",
    "from sklearn.linear_model import LogisticRegression\n",
    "from sklearn.preprocessing import LabelBinarizer\n",
    "from sklearn.metrics import roc_curve, auc\n",
    "from time import time\n",
    "from matplotlib.pyplot import cm\n",
    "from __future__ import print_function\n",
    "import timeit\n",
    "from textblob import TextBlob\n",
    "from textblob import Word\n",
    "import matplotlib.cm as cm\n",
    "from sklearn.linear_model import LogisticRegression\n",
    "from sklearn.discriminant_analysis import LinearDiscriminantAnalysis as LDA\n",
    "from sklearn.discriminant_analysis import QuadraticDiscriminantAnalysis as QDA\n",
    "from sklearn.neighbors import KNeighborsClassifier as KNN\n",
    "from sklearn.tree import DecisionTreeClassifier as DecisionTree\n",
    "from sklearn.ensemble import RandomForestClassifier as RandomForest\n",
    "from sklearn import grid_search\n",
    "from sklearn.svm import SVC\n",
    "import warnings\n",
    "%matplotlib inline"
   ]
  },
  {
   "cell_type": "markdown",
   "metadata": {},
   "source": [
    "## Data Set"
   ]
  },
  {
   "cell_type": "markdown",
   "metadata": {},
   "source": [
    "Here the given data set has 6 variables.\n",
    "1. essay_id\n",
    "2. essay_set\n",
    "3. essay\n",
    "4. rater1_domain1\n",
    "5. rater2_domain2\n",
    "6. domain1_score\n",
    "\n",
    "Out of these 5 variables only essay_set and Essay are responsible for grading."
   ]
  },
  {
   "cell_type": "markdown",
   "metadata": {},
   "source": [
    "## Models"
   ]
  },
  {
   "cell_type": "code",
   "execution_count": 12,
   "metadata": {},
   "outputs": [],
   "source": [
    "GlobalEnglish = pd.read_csv('globalenglish_essay_scoring.csv',encoding='ISO-8859-1')\n",
    "GlobalEnglish = GlobalEnglish[GlobalEnglish['domain1_score']<61]\n",
    "\n",
    "essay_sets = np.unique(GlobalEnglish['essay_set'])\n",
    "GlobalEnglish = GlobalEnglish.dropna(axis = 1)\n",
    "GlobalEnglish = GlobalEnglish.drop('rater1_domain1', 1)\n",
    "GlobalEnglish = GlobalEnglish.drop('rater2_domain1', 1)\n",
    "GlobalEnglish = GlobalEnglish.drop('essay_id', 1)"
   ]
  },
  {
   "cell_type": "code",
   "execution_count": 16,
   "metadata": {},
   "outputs": [
    {
     "name": "stdout",
     "output_type": "stream",
     "text": [
      "12.0\n",
      "6.0\n",
      "3.0\n",
      "3.0\n",
      "4.0\n",
      "4.0\n",
      "24.0\n",
      "60.0\n"
     ]
    }
   ],
   "source": [
    "for i in essay_sets:\n",
    "    print(np.max(GlobalEnglish.loc[GlobalEnglish[GlobalEnglish['essay_set'] == i].index.tolist(), 'domain1_score']))"
   ]
  },
  {
   "cell_type": "code",
   "execution_count": 3,
   "metadata": {},
   "outputs": [],
   "source": [
    "for i in essay_sets:\n",
    "    indices = GlobalEnglish[GlobalEnglish['essay_set'] == i].index.tolist()\n",
    "    maximum_grade = np.max(GlobalEnglish.loc[indices, 'domain1_score'])\n",
    "    minimum_grade = np.min(GlobalEnglish.loc[indices, 'domain1_score'])\n",
    "    GlobalEnglish.loc[indices, 'domain1_score_12'] = 12*(GlobalEnglish.loc[indices, 'domain1_score'] - minimum_grade)/(maximum_grade - minimum_grade)\n"
   ]
  },
  {
   "cell_type": "markdown",
   "metadata": {},
   "source": [
    "Splitting data into train and test."
   ]
  },
  {
   "cell_type": "code",
   "execution_count": 4,
   "metadata": {},
   "outputs": [
    {
     "name": "stderr",
     "output_type": "stream",
     "text": [
      "/Users/priyadarshinivijjigiri/anaconda2/lib/python2.7/site-packages/numpy/core/fromnumeric.py:57: FutureWarning: reshape is deprecated and will raise in a subsequent release. Please use .values.reshape(...) instead\n",
      "  return getattr(obj, method)(*args, **kwds)\n"
     ]
    }
   ],
   "source": [
    "X_train, X_test, y_train, y_test = train_test_split(GlobalEnglish['essay'], GlobalEnglish['domain1_score_12'], test_size=0.10)\n",
    "y_train = np.reshape(y_train,(len(y_train), 1))\n",
    "y_test = np.reshape(y_test, (len(y_test), 1))"
   ]
  },
  {
   "cell_type": "markdown",
   "metadata": {},
   "source": [
    "Essays are generally not graded on agreement or disagrement but rather depends on the statements. So we are removing the stop words in each essay."
   ]
  },
  {
   "cell_type": "code",
   "execution_count": 5,
   "metadata": {},
   "outputs": [],
   "source": [
    "def sentence_to_list(sentence):\n",
    "    sentence = re.sub(\"[^a-zA-Z]\", \" \", sentence)\n",
    "    words = sentence.lower().split()    \n",
    "    stops = set(stopwords.words(\"english\"))\n",
    "    return ([w for w in words if not w in stops])\n",
    "\n",
    "tokenizer = nltk.data.load('tokenizers/punkt/english.pickle')\n",
    "\n",
    "def essay_to_sentences(essay_v):\n",
    "    raw_sentences = tokenizer.tokenize(essay_v.strip())\n",
    "    sentences = []\n",
    "    for raw_sentence in raw_sentences:\n",
    "        if len(raw_sentence) > 0:\n",
    "            sentences.append(sentence_to_list(raw_sentence))\n",
    "    return sentences"
   ]
  },
  {
   "cell_type": "code",
   "execution_count": 6,
   "metadata": {},
   "outputs": [
    {
     "name": "stdout",
     "output_type": "stream",
     "text": [
      "Parsing sentences from all the Essays\n",
      "Complete\n"
     ]
    }
   ],
   "source": [
    "sentences = []\n",
    "\n",
    "print (\"Parsing sentences from all the Essays\")\n",
    "for essay_v in GlobalEnglish[\"essay\"]:\n",
    "    sentences += essay_to_sentences(essay_v)\n",
    "    \n",
    "print (\"Complete\")"
   ]
  },
  {
   "cell_type": "markdown",
   "metadata": {},
   "source": [
    "So now I got list of words for each essay and now I have built a model(word_to_vector_model) that converts each word into vector using word2vec package.\n",
    "I have taken 300 dimensional vector for each word, I have also taken 3 more parameters in creating this model.\n",
    "1. Minimum word count\n",
    "2. Context\n",
    "3. Number of Features"
   ]
  },
  {
   "cell_type": "code",
   "execution_count": 7,
   "metadata": {},
   "outputs": [],
   "source": [
    "dimensions = 300 \n",
    "min_word_count = 40\n",
    "num_workers = 4\n",
    "context = 10\n",
    "downsampling = 1e-3\n",
    "\n",
    "word_to_vector_model = word2vec.Word2Vec(sentences, workers=num_workers, size=dimensions, min_count = min_word_count, window = context, sample = downsampling)\n",
    "word_to_vector_model.init_sims(replace=True)"
   ]
  },
  {
   "cell_type": "markdown",
   "metadata": {},
   "source": [
    "Here I had converted each essay into a feature vector of dimension 300 by taking average of feature vectors of each and everyword present in the essay except the stop words."
   ]
  },
  {
   "cell_type": "code",
   "execution_count": 8,
   "metadata": {},
   "outputs": [],
   "source": [
    "def makeFeatureVec(words, model, num_features):\n",
    "    featureVec = np.zeros((num_features,),dtype=\"float32\")\n",
    "    nwords = 0.\n",
    "    index2word_set = set(model.wv.index2word)\n",
    "    for word in words:\n",
    "        if word in index2word_set: \n",
    "            nwords = nwords + 1.\n",
    "            featureVec = np.add(featureVec,model[word])        \n",
    "    featureVec = np.divide(featureVec,nwords)\n",
    "    return featureVec\n",
    "\n",
    "def getAvgFeatureVecs(essays, model, num_features):\n",
    "    counter = 0\n",
    "    essayFeatureVecs = np.zeros((len(essays),num_features),dtype=\"float32\")\n",
    "    for essay in essays:\n",
    "        essayFeatureVecs[counter] = makeFeatureVec(essay, model, num_features)\n",
    "        counter = counter + 1\n",
    "    return essayFeatureVecs"
   ]
  },
  {
   "cell_type": "code",
   "execution_count": 9,
   "metadata": {},
   "outputs": [
    {
     "name": "stdout",
     "output_type": "stream",
     "text": [
      "Creating average feature vecs for Training Essays\n"
     ]
    },
    {
     "name": "stderr",
     "output_type": "stream",
     "text": [
      "/Users/priyadarshinivijjigiri/anaconda2/lib/python2.7/site-packages/ipykernel_launcher.py:8: DeprecationWarning: Call to deprecated `__getitem__` (Method will be removed in 4.0.0, use self.wv.__getitem__() instead).\n",
      "  \n"
     ]
    }
   ],
   "source": [
    "print (\"Creating average feature vecs for Training Essays\")\n",
    "clean_train_essays = []\n",
    "for essay_v in X_train:\n",
    "    clean_train_essays.append( sentence_to_list( essay_v))\n",
    "trainDataVecs = getAvgFeatureVecs( clean_train_essays, word_to_vector_model, dimensions )\n",
    "\n",
    "\n",
    "clean_test_essays = []\n",
    "for essay_v in X_test:\n",
    "    clean_test_essays.append( sentence_to_list( essay_v ))\n",
    "testDataVecs = getAvgFeatureVecs( clean_test_essays, word_to_vector_model, dimensions )"
   ]
  },
  {
   "cell_type": "code",
   "execution_count": 10,
   "metadata": {},
   "outputs": [],
   "source": [
    "#To store results\n",
    "times = []\n",
    "scores = []\n",
    "labels = []"
   ]
  },
  {
   "cell_type": "markdown",
   "metadata": {},
   "source": [
    "## Logistic Regression"
   ]
  },
  {
   "cell_type": "markdown",
   "metadata": {},
   "source": [
    "First I had built a logistic model using sklearn and GridSearchCv methods."
   ]
  },
  {
   "cell_type": "code",
   "execution_count": 11,
   "metadata": {},
   "outputs": [],
   "source": [
    "from sklearn import preprocessing\n"
   ]
  },
  {
   "cell_type": "code",
   "execution_count": 12,
   "metadata": {},
   "outputs": [],
   "source": [
    "lab_enc = preprocessing.LabelEncoder()"
   ]
  },
  {
   "cell_type": "code",
   "execution_count": 13,
   "metadata": {},
   "outputs": [
    {
     "name": "stderr",
     "output_type": "stream",
     "text": [
      "/Users/priyadarshinivijjigiri/anaconda2/lib/python2.7/site-packages/sklearn/cross_validation.py:553: Warning: The least populated class in y has only 1 members, which is too few. The minimum number of labels for any class cannot be less than n_folds=3.\n",
      "  % (min_labels, self.n_folds)), Warning)\n"
     ]
    },
    {
     "name": "stdout",
     "output_type": "stream",
     "text": [
      "{'penalty': 'l1', 'class_weight': None}\n"
     ]
    }
   ],
   "source": [
    "parameters = {'class_weight': ['balanced', None], 'penalty': ['l1','l2']}\n",
    "logreg = LogisticRegression()\n",
    "log_grid = grid_search.GridSearchCV(logreg, parameters)\n",
    "log_grid.fit(trainDataVecs, lab_enc.fit_transform(y_train[:,0]))\n",
    "print (log_grid.best_params_)"
   ]
  },
  {
   "cell_type": "code",
   "execution_count": 14,
   "metadata": {},
   "outputs": [],
   "source": [
    "start_lr = time()\n",
    "logreg = LogisticRegression(penalty = 'l1', class_weight = None)\n",
    "logreg.fit(trainDataVecs,lab_enc.fit_transform(y_train[:,0]))\n",
    "preds_lr  = logreg.predict(testDataVecs)\n",
    "tot_lr = time() - start_lr\n",
    "\n",
    "scores.append(spearmanr(y_test, preds_lr)[0])\n",
    "times.append(tot_lr)\n",
    "labels.append('Log Reg')"
   ]
  },
  {
   "cell_type": "markdown",
   "metadata": {},
   "source": [
    "## K Nearest Neighbors"
   ]
  },
  {
   "cell_type": "code",
   "execution_count": 15,
   "metadata": {},
   "outputs": [],
   "source": [
    "start_knn = time()\n",
    "knn = KNN(n_neighbors = 16)\n",
    "knn.fit(trainDataVecs, lab_enc.fit_transform(y_train[:,0]))\n",
    "predsknn = knn.predict(testDataVecs)\n",
    "tot_knn = time() - start_knn\n",
    "\n",
    "scores.append(spearmanr(y_test, predsknn)[0])\n",
    "times.append(tot_knn)\n",
    "labels.append('KNN')"
   ]
  },
  {
   "cell_type": "markdown",
   "metadata": {},
   "source": [
    "## Support Vector Machines"
   ]
  },
  {
   "cell_type": "code",
   "execution_count": 16,
   "metadata": {},
   "outputs": [],
   "source": [
    "start = time()\n",
    "svm = SVC(C = 50, gamma = 0.9)\n",
    "svm.fit(trainDataVecs,lab_enc.fit_transform(y_train[:,0]))\n",
    "predictions = svm.predict(testDataVecs)\n",
    "total = time() - start\n",
    "\n",
    "scores.append(spearmanr(y_test, predictions)[0])\n",
    "times.append(total)\n",
    "labels.append('SVM')"
   ]
  },
  {
   "cell_type": "markdown",
   "metadata": {},
   "source": [
    "## Random Forest"
   ]
  },
  {
   "cell_type": "code",
   "execution_count": 17,
   "metadata": {},
   "outputs": [],
   "source": [
    "start_rf = time()\n",
    "rf = RandomForest(n_estimators = 51, max_depth = 14)\n",
    "rf.fit(trainDataVecs, lab_enc.fit_transform(y_train[:,0]))\n",
    "preds_rf = rf.predict(testDataVecs)\n",
    "tot_rf = time() - start_rf \n",
    "\n",
    "scores.append(spearmanr(y_test, preds_rf)[0])\n",
    "times.append(tot_rf)\n",
    "labels.append('Random Forest')"
   ]
  },
  {
   "cell_type": "code",
   "execution_count": 18,
   "metadata": {},
   "outputs": [
    {
     "data": {
      "image/png": "[encoded data removed]",
      "text/plain": [
       "<matplotlib.figure.Figure at 0x1a3169b750>"
      ]
     },
     "metadata": {},
     "output_type": "display_data"
    }
   ],
   "source": [
    "import matplotlib.cm as cm\n",
    "#plot\n",
    "fig = plt.figure(figsize=(7,7))\n",
    "\n",
    "color=iter(cm.rainbow(np.linspace(0,1,4,3)))\n",
    "for label, x, y, col  in zip(labels, scores, times, color):\n",
    "    plt.scatter(x, y, color=col, s = 50)\n",
    "    plt.grid(color='k')\n",
    "    plt.annotate(\n",
    "    label,\n",
    "    xy = (x, y), xytext = (40, 20),\n",
    "    textcoords = 'offset points', ha = 'center', va = 'center',\n",
    "    bbox = dict(boxstyle = 'round,pad=0.5', fc = 'white', alpha = 0.5),\n",
    "    arrowprops = dict(arrowstyle = '->', connectionstyle = 'arc3,rad=0'))  \n",
    "plt.title('Computation Time Vs. Spearmans Correlation')\n",
    "plt.ylabel('Computation Time (Seconds)')\n",
    "plt.xlabel('Spearmans Correlation')\n",
    "plt.show()"
   ]
  },
  {
   "cell_type": "markdown",
   "metadata": {},
   "source": [
    "I choose a metric called Spearman correlation coefficient to assess my model. As we can see from the plot SVM gave the heighest Spearmans Correlation coefficent.\n",
    "where as its computation time is very high."
   ]
  },
  {
   "cell_type": "markdown",
   "metadata": {},
   "source": [
    "## Deep Neural Network"
   ]
  },
  {
   "cell_type": "markdown",
   "metadata": {},
   "source": [
    "Now I have built a deep Neural network which takes feature vector for each essay as input and predicts essay grade as output.\n",
    "\n",
    "First Hidden layer is of 500 neurons\n",
    "Second Hidden layer is of 750 neurons\n",
    "##### Activation function\n",
    "   Relu activation function is used to increase the non-linearity in the model.\n",
    "##### Optimizer\n",
    "   Adam optimizer with learning rate 0.001\n"
   ]
  },
  {
   "cell_type": "code",
   "execution_count": 20,
   "metadata": {},
   "outputs": [],
   "source": [
    "def weight_matrix(shape):\n",
    "    initial = tf.truncated_normal(shape, stddev=0.1)\n",
    "    return tf.Variable(initial)\n",
    "\n",
    "def bias_matrix(shape):\n",
    "    initial = tf.zeros(shape)\n",
    "    return tf.Variable(initial)"
   ]
  },
  {
   "cell_type": "code",
   "execution_count": 21,
   "metadata": {},
   "outputs": [],
   "source": [
    "batch_size = 300\n",
    "hidden_nodes_1 = 500\n",
    "hidden_nodes_2 = 750\n",
    "size = testDataVecs.shape[1]\n",
    "\n",
    "graph = tf.Graph()\n",
    "with graph.as_default():\n",
    "\n",
    "    # Input data.\n",
    "    with tf.name_scope(\"Input\"):\n",
    "        tf_train_dataset = tf.placeholder(tf.float32, shape=(batch_size, size))\n",
    "        tf_train_labels = tf.placeholder(tf.float32, shape=(batch_size, 1))\n",
    "    \n",
    "    tf_test_dataset = tf.constant(testDataVecs)\n",
    "      \n",
    "    layer1_weights = weight_matrix([size, hidden_nodes_1])\n",
    "    layer1_biases = bias_matrix([hidden_nodes_1]) \n",
    "    \n",
    "    layer2_weights = weight_matrix([hidden_nodes_1, hidden_nodes_2])\n",
    "    layer2_biases = bias_matrix([hidden_nodes_2])\n",
    "    \n",
    "    layer3_weights = weight_matrix([hidden_nodes_2, 1])\n",
    "    layer3_biases = bias_matrix([1])\n",
    "    \n",
    "    def model(data):\n",
    "        with tf.name_scope(\"Layer_1\"):\n",
    "            layer1 = tf.nn.relu(tf.matmul(data, layer1_weights) + layer1_biases)\n",
    "        \n",
    "        with tf.name_scope(\"Layer_2\"):\n",
    "            \n",
    "            layer2 = tf.nn.relu(tf.matmul(layer1, layer2_weights) + layer2_biases)\n",
    "\n",
    "        with tf.name_scope(\"Layer_3\"):\n",
    "            layer3 = tf.nn.relu(tf.matmul(layer2, layer3_weights) + layer3_biases)\n",
    "        return layer3\n",
    "    \n",
    "    yhat = model(tf_train_dataset)\n",
    "    \n",
    "    with tf.name_scope(\"Loss\"):\n",
    "        loss = tf.reduce_mean(tf.square(yhat - tf_train_labels))\n",
    "    \n",
    "\n",
    "    global_step = tf.Variable(0)  # count  number of steps taken.\n",
    "    start_learning_rate = 0.001\n",
    "    learning_rate = tf.train.exponential_decay(start_learning_rate, global_step, 100000, 0.96, staircase=True)\n",
    "    \n",
    "    with tf.name_scope(\"Train\"):\n",
    "        optimizer = tf.train.AdamOptimizer(learning_rate).minimize(loss)\n",
    "    \n",
    "    tf.summary.scalar(\"loss\", loss)\n",
    "    \n",
    "    # Predictions for the training, validation, and test data.\n",
    "    train_prediction = yhat\n",
    "    test_prediction = model(tf_test_dataset)"
   ]
  },
  {
   "cell_type": "code",
   "execution_count": 22,
   "metadata": {},
   "outputs": [
    {
     "name": "stdout",
     "output_type": "stream",
     "text": [
      "Initialized\n",
      "Minibatch Loss at Epoch 0: 57.773\n",
      "Minibatch Spearman Score: 0.2224\n",
      "Minibatch Loss at Epoch 500: 3.669\n",
      "Minibatch Spearman Score: 0.7470\n",
      "Minibatch Loss at Epoch 1000: 3.281\n",
      "Minibatch Spearman Score: 0.7189\n",
      "Minibatch Loss at Epoch 1500: 3.081\n",
      "Minibatch Spearman Score: 0.7875\n",
      "Minibatch Loss at Epoch 2000: 2.584\n",
      "Minibatch Spearman Score: 0.7937\n",
      "Minibatch Loss at Epoch 2500: 2.517\n",
      "Minibatch Spearman Score: 0.8197\n",
      "Minibatch Loss at Epoch 3000: 1.870\n",
      "Minibatch Spearman Score: 0.8637\n",
      "Minibatch Loss at Epoch 3500: 1.723\n",
      "Minibatch Spearman Score: 0.8857\n",
      "Minibatch Loss at Epoch 4000: 1.788\n",
      "Minibatch Spearman Score: 0.8723\n",
      "Minibatch Loss at Epoch 4500: 2.180\n",
      "Minibatch Spearman Score: 0.8531\n",
      "Minibatch Loss at Epoch 5000: 1.496\n",
      "Minibatch Spearman Score: 0.8942\n",
      "Test Spearman Score: 0.8942\n"
     ]
    }
   ],
   "source": [
    "test_preds = pd.DataFrame()\n",
    "# Re-define the function to include the keep probability\n",
    "l_array = []\n",
    "start = timeit.timeit()\n",
    "num_epochs = 5001\n",
    "def run_session(num_epochs, name):\n",
    "    with tf.Session(graph=graph) as session:\n",
    "        writer = tf.summary.FileWriter(\"logs/\", session.graph)\n",
    "        tf.initialize_all_variables().run()\n",
    "        print(\"Initialized\")\n",
    "        for epoch in range(num_epochs):\n",
    "            offset = (epoch * batch_size) % (y_train.shape[0] - batch_size)\n",
    "            batch_data = trainDataVecs[offset:(offset + batch_size), :]\n",
    "            batch_labels = y_train[offset:(offset + batch_size)]\n",
    "            feed_dict = {tf_train_dataset : batch_data, tf_train_labels : batch_labels}\n",
    "            _, l, predictions = session.run([optimizer, loss, train_prediction], feed_dict=feed_dict)\n",
    "            l_array.append(l)\n",
    "            if (epoch % 500 == 0):\n",
    "                print(\"Minibatch Loss at Epoch {}: {:.3f}\".format(epoch, l))\n",
    "                rho, pval = (spearmanr(predictions, batch_labels))\n",
    "                print(\"Minibatch Spearman Score: {:.4f}\".format(rho))\n",
    "        final_rho, pval = spearmanr(test_prediction.eval(), y_test)\n",
    "        print(\"Test Spearman Score: {:.4f}\".format(rho))\n",
    "        scores.append(final_rho)\n",
    "        test_preds[name] = test_prediction.eval().ravel()\n",
    "        filesave = np.zeros((len(y_test), 2))\n",
    "        to_use = test_prediction.eval()\n",
    "        \n",
    "        for ii in range(len(y_test)):           \n",
    "            filesave[ii, 0] = y_test[ii]\n",
    "            filesave[ii, 1] = to_use[ii]\n",
    "        \n",
    "        np.savetxt('savetest.txt', filesave, delimiter=\",\", fmt=\"%d\") \n",
    "        \n",
    "run_session(num_epochs, \"Deep_NN\")\n",
    "total = timeit.timeit() - start\n"
   ]
  },
  {
   "cell_type": "markdown",
   "metadata": {},
   "source": [
    "Using Deep Neural Network Spearman correlation coefficient is further increased to 0.89. which proves that DNN works better than every model tried."
   ]
  }
 ],
 "metadata": {
  "kernelspec": {
   "display_name": "Python 3",
   "language": "python",
   "name": "python3"
  },
  "language_info": {
   "codemirror_mode": {
    "name": "ipython",
    "version": 3
   },
   "file_extension": ".py",
   "mimetype": "text/x-python",
   "name": "python",
   "nbconvert_exporter": "python",
   "pygments_lexer": "ipython3",
   "version": "3.6.4"
  }
 },
 "nbformat": 4,
 "nbformat_minor": 2
}
